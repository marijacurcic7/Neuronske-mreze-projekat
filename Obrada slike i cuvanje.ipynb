{
 "cells": [
  {
   "cell_type": "markdown",
   "id": "14ac6740",
   "metadata": {},
   "source": [
    "## Obrada slike"
   ]
  },
  {
   "cell_type": "code",
   "execution_count": null,
   "id": "dad0d402",
   "metadata": {},
   "outputs": [],
   "source": [
    "import pandas as pd\n",
    "import numpy as np\n",
    "import matplotlib.pyplot as plt\n",
    "import matplotlib\n",
    "%matplotlib inline\n",
    "import cv2\n",
    "\n",
    "from PIL import Image, ImageDraw, ImageFont"
   ]
  },
  {
   "cell_type": "code",
   "execution_count": null,
   "id": "b2a20fea",
   "metadata": {},
   "outputs": [],
   "source": [
    "df_train = pd.read_csv('kuzushiji/traincsv/train.csv')\n",
    "\n",
    "x0 = 1933\n",
    "y0 = 1146"
   ]
  },
  {
   "cell_type": "code",
   "execution_count": null,
   "id": "1f4c05b2",
   "metadata": {},
   "outputs": [],
   "source": [
    "def my_rgb2gray(img_rgb):\n",
    "    img_gray = np.ndarray((img_rgb.shape[0], img_rgb.shape[1]))  # zauzimanje memorije za sliku (nema trece dimenzije)\n",
    "    img_gray = 0.21*img_rgb[:, :, 0] + 0.72*img_rgb[:, :, 1] + 0.07*img_rgb[:, :, 2]\n",
    "    img_gray = img_gray.astype('uint8')  # u prethodnom koraku smo mnozili sa float, pa sada moramo da vratimo u [0,255] opseg\n",
    "    return img_gray"
   ]
  },
  {
   "cell_type": "code",
   "execution_count": null,
   "id": "c8644b35",
   "metadata": {},
   "outputs": [],
   "source": [
    "def image_processing(image_fn, labels):\n",
    "    imsource = cv2.imread(image_fn)\n",
    "    imsource = cv2.cvtColor(imsource, cv2.COLOR_BGR2RGB)\n",
    "    resized_image = cv2.resize(imsource, (y0, x0))\n",
    "    x1, y1, z1 = imsource.shape\n",
    "    xx = x0/x1\n",
    "    yy = y0/y1\n",
    "    \n",
    "    new_labels = []\n",
    "    labels = np.array(labels.split(' ')).reshape(-1, 5)\n",
    "    for codepoint, x, y, w, h in labels:\n",
    "        x, y, w, h = int(x)*yy, int(y)*xx, int(w)*xx, int(h)*yy\n",
    "        new_labels.append([codepoint, x, y, w, h])\n",
    "\n",
    "    img_gray = my_rgb2gray(resized_image)\n",
    "#     ret, image_bin = cv2.threshold(img_gray, 165, 255, cv2.THRESH_BINARY)\n",
    "    ret, image_bin = cv2.threshold(img_gray, 0, 255, cv2.THRESH_OTSU)\n",
    "\n",
    "    return image_bin, new_labels"
   ]
  },
  {
   "cell_type": "code",
   "execution_count": null,
   "id": "b6a6e934",
   "metadata": {},
   "outputs": [],
   "source": [
    "images_processed = []\n",
    "for val in df_train.values:\n",
    "    image_id = val[0]\n",
    "    labels = val[1]\n",
    "    image_fn = r'kuzushiji/train_images/{}.jpg'.format(image_id)\n",
    "    img, new_labels = image_processing(image_fn, labels)\n",
    "    filename = r'kuzushiji_resized/train_images/{}.jpg'.format(image_id)\n",
    "    cv2.imwrite(filename, img)\n",
    "    images_processed.append([image_id, img, new_labels])"
   ]
  },
  {
   "cell_type": "code",
   "execution_count": null,
   "id": "366c3f4b",
   "metadata": {},
   "outputs": [],
   "source": [
    "df = pd.DataFrame(data=images_processed, columns=['image_id', 'image', 'labels'])"
   ]
  },
  {
   "cell_type": "code",
   "execution_count": null,
   "id": "12bb08be",
   "metadata": {},
   "outputs": [],
   "source": [
    "df"
   ]
  },
  {
   "cell_type": "markdown",
   "id": "dd170b75",
   "metadata": {},
   "source": [
    "## Prikaz slike sa labelama"
   ]
  },
  {
   "cell_type": "code",
   "execution_count": null,
   "id": "264a828d",
   "metadata": {},
   "outputs": [],
   "source": [
    "fontsize = 50\n",
    "font = ImageFont.truetype('./kuzushiji/NotoSansCJKjp-Regular.otf', fontsize, encoding='utf-8')"
   ]
  },
  {
   "cell_type": "code",
   "execution_count": null,
   "id": "97f35067",
   "metadata": {},
   "outputs": [],
   "source": [
    "unicode_map = {codepoint: char for codepoint, char in pd.read_csv('kuzushiji/unicode_translation.csv').values}"
   ]
  },
  {
   "cell_type": "code",
   "execution_count": null,
   "id": "6135f416",
   "metadata": {},
   "outputs": [],
   "source": [
    "# This function takes in a filename of an image, and the labels in the string format given in train.csv, \n",
    "# and returns an image containing the bounding boxes and characters annotated\n",
    "def visualize_training_data(image_fn, labels):\n",
    "    # Convert annotation string to array\n",
    "    #labels = np.array(labels.split(' ')).reshape(-1, 5) #labels = [oznaka, dimenzije]\n",
    "    \n",
    "    # Read image\n",
    "    imsource = Image.open(image_fn).convert('RGBA')\n",
    "    bbox_canvas = Image.new('RGBA', imsource.size)\n",
    "    char_canvas = Image.new('RGBA', imsource.size)\n",
    "    bbox_draw = ImageDraw.Draw(bbox_canvas) # Separate canvases for boxes and chars so a box doesn't cut off a character\n",
    "    char_draw = ImageDraw.Draw(char_canvas)\n",
    "\n",
    "    for codepoint, x, y, w, h in labels:\n",
    "        x, y, w, h = int(x), int(y), int(w), int(h)\n",
    "        char = unicode_map[codepoint] # Convert codepoint to actual unicode character\n",
    "\n",
    "        # Draw bounding box around character, and unicode character next to it\n",
    "        bbox_draw.rectangle((x, y, x+w, y+h), fill=(255, 255, 255, 0), outline=(255, 0, 0, 255))\n",
    "        char_draw.text((x + w + fontsize/4, y + h/2 - fontsize), char, fill=(0, 0, 255, 255), font=font)\n",
    "        Croped_image = imsource.crop((x, y, x+w, y+h))\n",
    "        plt.figure()\n",
    "        print(str(unicode_map[codepoint]))\n",
    "        plt.imshow(Croped_image)\n",
    "        plt.show()\n",
    "\n",
    "    imsource = Image.alpha_composite(Image.alpha_composite(imsource, bbox_canvas), char_canvas)\n",
    "    imsource = imsource.convert(\"RGB\") # Remove alpha for saving in jpg format.\n",
    "    return np.asarray(imsource)"
   ]
  },
  {
   "cell_type": "code",
   "execution_count": null,
   "id": "5b927177",
   "metadata": {},
   "outputs": [],
   "source": [
    "img_id, img, labels = df.values[0]\n",
    "viz = visualize_training_data('kuzushiji_resized/train_images/{}.jpg'.format(img_id), labels)"
   ]
  },
  {
   "cell_type": "code",
   "execution_count": null,
   "id": "14c2d57a",
   "metadata": {},
   "outputs": [],
   "source": [
    "plt.figure(figsize=(15, 15))\n",
    "plt.title(img_id)\n",
    "plt.imshow(viz, interpolation='lanczos')\n",
    "plt.show()"
   ]
  },
  {
   "cell_type": "code",
   "execution_count": null,
   "id": "d382629b",
   "metadata": {},
   "outputs": [],
   "source": [
    "import csv\n",
    "\n",
    "# open the file in the write mode\n",
    "f = open('kuzushiji_resized/train1.csv', 'w', newline='', encoding='utf-8')\n",
    "\n",
    "# create the csv writer\n",
    "writer = csv.writer(f)\n",
    "\n",
    "header = ['image_id', 'features', 'labels']\n",
    "\n",
    "# write a row to the csv file\n",
    "writer.writerow(header)"
   ]
  },
  {
   "cell_type": "code",
   "execution_count": null,
   "id": "5457e7a7",
   "metadata": {},
   "outputs": [],
   "source": [
    "rows = []\n",
    "for index, row in df.iterrows():\n",
    "    image_id = row[0]\n",
    "    features = row[1]\n",
    "    labels = row[2]\n",
    "#     labelsstr = \"\"\n",
    "#     for label in labels:\n",
    "#         for l in label:\n",
    "#             labelsstr += str(l)\n",
    "#             labelsstr += \" \"\n",
    "#     csvrow = [image_id, labelsstr]\n",
    "    csvrow = [image_id, features, labels]\n",
    "#     rows.append(csvrow)\n",
    "    writer.writerow(csvrow)"
   ]
  },
  {
   "cell_type": "code",
   "execution_count": null,
   "id": "c33d08fc",
   "metadata": {},
   "outputs": [],
   "source": [
    "# writer.writerows(rows)"
   ]
  },
  {
   "cell_type": "code",
   "execution_count": null,
   "id": "1ad9ec01",
   "metadata": {},
   "outputs": [],
   "source": [
    "f.close()\n"
   ]
  },
  {
   "cell_type": "code",
   "execution_count": null,
   "id": "caa9506c",
   "metadata": {},
   "outputs": [],
   "source": []
  }
 ],
 "metadata": {
  "kernelspec": {
   "display_name": "Python 3 (ipykernel)",
   "language": "python",
   "name": "python3"
  },
  "language_info": {
   "codemirror_mode": {
    "name": "ipython",
    "version": 3
   },
   "file_extension": ".py",
   "mimetype": "text/x-python",
   "name": "python",
   "nbconvert_exporter": "python",
   "pygments_lexer": "ipython3",
   "version": "3.10.3"
  }
 },
 "nbformat": 4,
 "nbformat_minor": 5
}
