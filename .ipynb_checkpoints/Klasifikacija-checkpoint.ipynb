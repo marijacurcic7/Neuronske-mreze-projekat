{
 "cells": [
  {
   "cell_type": "code",
   "execution_count": 1,
   "id": "a8bcd6f7",
   "metadata": {},
   "outputs": [],
   "source": [
    "import pandas as pd\n",
    "import numpy as np\n",
    "import cv2\n",
    "from tqdm import tqdm\n",
    "from PIL import Image, ImageDraw, ImageFont\n",
    "import matplotlib.pyplot as plt"
   ]
  },
  {
   "cell_type": "code",
   "execution_count": 2,
   "id": "2cebfd72",
   "metadata": {},
   "outputs": [
    {
     "data": {
      "text/html": [
       "<div>\n",
       "<style scoped>\n",
       "    .dataframe tbody tr th:only-of-type {\n",
       "        vertical-align: middle;\n",
       "    }\n",
       "\n",
       "    .dataframe tbody tr th {\n",
       "        vertical-align: top;\n",
       "    }\n",
       "\n",
       "    .dataframe thead th {\n",
       "        text-align: right;\n",
       "    }\n",
       "</style>\n",
       "<table border=\"1\" class=\"dataframe\">\n",
       "  <thead>\n",
       "    <tr style=\"text-align: right;\">\n",
       "      <th></th>\n",
       "      <th>image_id</th>\n",
       "      <th>labels</th>\n",
       "    </tr>\n",
       "  </thead>\n",
       "  <tbody>\n",
       "    <tr>\n",
       "      <th>0</th>\n",
       "      <td>100241706_00004_2</td>\n",
       "      <td>U+306F 586.824459234609 1728.922302529685 66.3...</td>\n",
       "    </tr>\n",
       "    <tr>\n",
       "      <th>1</th>\n",
       "      <td>100241706_00005_1</td>\n",
       "      <td>U+306F 520.7784280936455 1006.916365513681 51....</td>\n",
       "    </tr>\n",
       "    <tr>\n",
       "      <th>2</th>\n",
       "      <td>100241706_00005_2</td>\n",
       "      <td>U+306F 271.3211920529801 686.5792462570986 62....</td>\n",
       "    </tr>\n",
       "    <tr>\n",
       "      <th>3</th>\n",
       "      <td>100241706_00006_1</td>\n",
       "      <td>U+3082 705.9398814563929 1496.7568193515183 32...</td>\n",
       "    </tr>\n",
       "    <tr>\n",
       "      <th>4</th>\n",
       "      <td>100241706_00007_2</td>\n",
       "      <td>U+309D 575.3954849498328 1473.7375904860394 13...</td>\n",
       "    </tr>\n",
       "    <tr>\n",
       "      <th>...</th>\n",
       "      <td>...</td>\n",
       "      <td>...</td>\n",
       "    </tr>\n",
       "    <tr>\n",
       "      <th>3600</th>\n",
       "      <td>umgy012-038</td>\n",
       "      <td>U+30FD 582.3062645011602 526.0948453608247 15....</td>\n",
       "    </tr>\n",
       "    <tr>\n",
       "      <th>3601</th>\n",
       "      <td>umgy012-039</td>\n",
       "      <td>U+309D 271.0694058856191 301.65913757700207 19...</td>\n",
       "    </tr>\n",
       "    <tr>\n",
       "      <th>3602</th>\n",
       "      <td>umgy012-040</td>\n",
       "      <td>U+30DE 441.0699260943718 216.91523678792038 45...</td>\n",
       "    </tr>\n",
       "    <tr>\n",
       "      <th>3603</th>\n",
       "      <td>umgy012-041</td>\n",
       "      <td>U+309D 982.640650406504 526.942895989123 10.51...</td>\n",
       "    </tr>\n",
       "    <tr>\n",
       "      <th>3604</th>\n",
       "      <td>umgy012-042</td>\n",
       "      <td>U+4E00 680.5995475113123 590.8216473791696 56....</td>\n",
       "    </tr>\n",
       "  </tbody>\n",
       "</table>\n",
       "<p>3605 rows × 2 columns</p>\n",
       "</div>"
      ],
      "text/plain": [
       "               image_id                                             labels\n",
       "0     100241706_00004_2  U+306F 586.824459234609 1728.922302529685 66.3...\n",
       "1     100241706_00005_1  U+306F 520.7784280936455 1006.916365513681 51....\n",
       "2     100241706_00005_2  U+306F 271.3211920529801 686.5792462570986 62....\n",
       "3     100241706_00006_1  U+3082 705.9398814563929 1496.7568193515183 32...\n",
       "4     100241706_00007_2  U+309D 575.3954849498328 1473.7375904860394 13...\n",
       "...                 ...                                                ...\n",
       "3600        umgy012-038  U+30FD 582.3062645011602 526.0948453608247 15....\n",
       "3601        umgy012-039  U+309D 271.0694058856191 301.65913757700207 19...\n",
       "3602        umgy012-040  U+30DE 441.0699260943718 216.91523678792038 45...\n",
       "3603        umgy012-041  U+309D 982.640650406504 526.942895989123 10.51...\n",
       "3604        umgy012-042  U+4E00 680.5995475113123 590.8216473791696 56....\n",
       "\n",
       "[3605 rows x 2 columns]"
      ]
     },
     "execution_count": 2,
     "metadata": {},
     "output_type": "execute_result"
    }
   ],
   "source": [
    "df = pd.read_csv('kuzushiji_resized/traincsv.csv')\n",
    "df"
   ]
  },
  {
   "cell_type": "code",
   "execution_count": 3,
   "id": "caa2f286",
   "metadata": {},
   "outputs": [],
   "source": [
    "fontsize = 50\n",
    "\n",
    "font = ImageFont.truetype('./kuzushiji/NotoSansCJKjp-Regular.otf', fontsize, encoding='utf-8')"
   ]
  },
  {
   "cell_type": "code",
   "execution_count": 4,
   "id": "dfd70186",
   "metadata": {},
   "outputs": [],
   "source": [
    "df_train = pd.read_csv('kuzushiji/traincsv/train.csv')\n",
    "unicode_map = {codepoint: char for codepoint, char in pd.read_csv('kuzushiji/unicode_translation.csv').values}"
   ]
  },
  {
   "cell_type": "code",
   "execution_count": 5,
   "id": "544222d6",
   "metadata": {},
   "outputs": [],
   "source": [
    "def Extract_Data():\n",
    "    X_=[]\n",
    "    y_=[]\n",
    "    for image_id, labels in tqdm(df[:1000].values):\n",
    "        try:\n",
    "            image_fn = 'kuzushiji_resized/train_images/{}.jpg'.format(image_id)\n",
    "            ls = labels.split(' ')\n",
    "            index = len(ls) - 1\n",
    "            ls1 = ls[:index]\n",
    "            labels1 = np.array(ls1).reshape(-1, 5)\n",
    "\n",
    "            imsource = Image.open(image_fn).convert('RGBA')\n",
    "            bbox_canvas = Image.new('RGBA', imsource.size)\n",
    "            char_canvas = Image.new('RGBA', imsource.size)\n",
    "            bbox_draw = ImageDraw.Draw(bbox_canvas)\n",
    "            char_draw = ImageDraw.Draw(char_canvas)\n",
    "\n",
    "            for codepoint, x, y, w, h in labels1:\n",
    "                x, y, w, h = float(x), float(y), float(w), float(h)\n",
    "                char = unicode_map[codepoint]\n",
    "\n",
    "                Croped_image = imsource.crop((x, y, x+w, y+h))\n",
    "                image = Croped_image.resize((100,100))\n",
    "                image = np.asarray(image)\n",
    "                image = cv2.cvtColor(image, cv2.COLOR_RGB2GRAY)\n",
    "                X_.append(image)\n",
    "                y_.append(str(unicode_map[codepoint]))\n",
    "        except:\n",
    "            print(\"exception\")\n",
    "            pass\n",
    "    print(X_)\n",
    "    X_ = np.array(X_)\n",
    "    y_ = np.array(y_)\n",
    "\n",
    "    return X_,y_"
   ]
  },
  {
   "cell_type": "code",
   "execution_count": 6,
   "id": "0437bba1",
   "metadata": {},
   "outputs": [
    {
     "name": "stderr",
     "output_type": "stream",
     "text": [
      " 57%|█████████████████████████████████████████████                                  | 571/1000 [00:25<00:25, 17.05it/s]"
     ]
    },
    {
     "name": "stdout",
     "output_type": "stream",
     "text": [
      "exception\n"
     ]
    },
    {
     "name": "stderr",
     "output_type": "stream",
     "text": [
      " 60%|███████████████████████████████████████████████▍                               | 601/1000 [00:27<00:26, 15.02it/s]"
     ]
    },
    {
     "name": "stdout",
     "output_type": "stream",
     "text": [
      "exception\n"
     ]
    },
    {
     "name": "stderr",
     "output_type": "stream",
     "text": [
      " 71%|███████████████████████████████████████████████████████▊                       | 706/1000 [00:34<00:19, 15.07it/s]"
     ]
    },
    {
     "name": "stdout",
     "output_type": "stream",
     "text": [
      "exception\n"
     ]
    },
    {
     "name": "stderr",
     "output_type": "stream",
     "text": [
      "100%|██████████████████████████████████████████████████████████████████████████████| 1000/1000 [00:54<00:00, 18.51it/s]\n",
      "IOPub data rate exceeded.\n",
      "The notebook server will temporarily stop sending output\n",
      "to the client in order to avoid crashing it.\n",
      "To change this limit, set the config variable\n",
      "`--NotebookApp.iopub_data_rate_limit`.\n",
      "\n",
      "Current values:\n",
      "NotebookApp.iopub_data_rate_limit=1000000.0 (bytes/sec)\n",
      "NotebookApp.rate_limit_window=3.0 (secs)\n",
      "\n"
     ]
    }
   ],
   "source": [
    "XX_,yy_ = Extract_Data()"
   ]
  },
  {
   "cell_type": "code",
   "execution_count": 24,
   "id": "9c08f5c2",
   "metadata": {},
   "outputs": [],
   "source": [
    "\n",
    "title = yy_[51839]"
   ]
  },
  {
   "cell_type": "code",
   "execution_count": 33,
   "id": "f740a4d4",
   "metadata": {},
   "outputs": [
    {
     "name": "stdout",
     "output_type": "stream",
     "text": [
      "              焼\n"
     ]
    },
    {
     "data": {
      "image/png": "[encoded data removed]",
      "text/plain": [
       "<Figure size 432x288 with 1 Axes>"
      ]
     },
     "metadata": {
      "needs_background": "light"
     },
     "output_type": "display_data"
    }
   ],
   "source": [
    "# -*- coding: utf-8 -*-\n",
    "plt.figure()\n",
    "plt.imshow(XX_[51839], 'gray')\n",
    "print(\"             \",title)"
   ]
  },
  {
   "cell_type": "code",
   "execution_count": 31,
   "id": "f4e4183b",
   "metadata": {},
   "outputs": [
    {
     "data": {
      "text/plain": [
       "(174861, 100, 100)"
      ]
     },
     "execution_count": 31,
     "metadata": {},
     "output_type": "execute_result"
    }
   ],
   "source": [
    "XX_.shape"
   ]
  },
  {
   "cell_type": "code",
   "execution_count": 10,
   "id": "3885f532",
   "metadata": {},
   "outputs": [
    {
     "data": {
      "text/plain": [
       "(174861,)"
      ]
     },
     "execution_count": 10,
     "metadata": {},
     "output_type": "execute_result"
    }
   ],
   "source": [
    "yy_.shape"
   ]
  },
  {
   "cell_type": "code",
   "execution_count": 11,
   "id": "2a9e9017",
   "metadata": {},
   "outputs": [],
   "source": [
    "XX2_ = XX_[:100000]\n",
    "yy2_ = yy_[:100000]"
   ]
  },
  {
   "cell_type": "code",
   "execution_count": 12,
   "id": "0a62b93c",
   "metadata": {},
   "outputs": [
    {
     "name": "stdout",
     "output_type": "stream",
     "text": [
      "['?' '▲' '○' ... '鼾' '齢' '蓮'] [  1  54 198 ...   2   1   1]\n"
     ]
    }
   ],
   "source": [
    "unique, counts = np.unique(yy2_, return_counts=True)\n",
    "print(unique, counts )"
   ]
  },
  {
   "cell_type": "code",
   "execution_count": 34,
   "id": "d0b7c718",
   "metadata": {},
   "outputs": [],
   "source": [
    "i = 0\n",
    "classes = []\n",
    "for c in counts:\n",
    "    if(c >= 300):\n",
    "        cl = unique[i]\n",
    "        classes.append(cl)\n",
    "#         print(cl)\n",
    "    i+=1"
   ]
  },
  {
   "cell_type": "code",
   "execution_count": 14,
   "id": "afa68cf1",
   "metadata": {},
   "outputs": [
    {
     "data": {
      "text/plain": [
       "59"
      ]
     },
     "execution_count": 14,
     "metadata": {},
     "output_type": "execute_result"
    }
   ],
   "source": [
    "len(classes)"
   ]
  },
  {
   "cell_type": "code",
   "execution_count": 15,
   "id": "933c0d90",
   "metadata": {},
   "outputs": [],
   "source": [
    "j = 0\n",
    "yy1_ = []\n",
    "XX1_ = []\n",
    "for y in yy2_:\n",
    "    if(y in classes):\n",
    "        yy1_.append(y)\n",
    "        XX1_.append(XX2_[j])\n",
    "    j+= 1"
   ]
  },
  {
   "cell_type": "code",
   "execution_count": 16,
   "id": "a1a9ed4d",
   "metadata": {},
   "outputs": [],
   "source": [
    "X_ = np.array(XX1_)\n",
    "y_ = np.array(yy1_)"
   ]
  },
  {
   "cell_type": "code",
   "execution_count": 17,
   "id": "9b3901b2",
   "metadata": {},
   "outputs": [
    {
     "name": "stdout",
     "output_type": "stream",
     "text": [
      "(64459, 100, 100)\n",
      "(64459,)\n"
     ]
    }
   ],
   "source": [
    "print(X_.shape)\n",
    "print(y_.shape)"
   ]
  },
  {
   "cell_type": "code",
   "execution_count": 17,
   "id": "89588a9c",
   "metadata": {},
   "outputs": [],
   "source": [
    "from sklearn.preprocessing import LabelEncoder\n",
    "from sklearn.model_selection import train_test_split\n",
    "\n",
    "from sklearn.svm import SVC\n",
    "from sklearn import metrics\n",
    "\n",
    "from keras.models import Sequential, Model,load_model\n",
    "from keras.layers import Dense, Dropout, Activation, Flatten, Conv2D, Conv3D, BatchNormalization, MaxPool2D, MaxPooling2D, AveragePooling2D, Input\n",
    "from tensorflow.keras.optimizers import Adam\n",
    "from tensorflow.keras.utils import to_categorical\n",
    "\n",
    "from keras.callbacks import ModelCheckpoint\n",
    "from datetime import datetime\n",
    "\n",
    "from keras import backend as K\n"
   ]
  },
  {
   "cell_type": "code",
   "execution_count": 18,
   "id": "195ec402",
   "metadata": {},
   "outputs": [
    {
     "name": "stdout",
     "output_type": "stream",
     "text": [
      "(45121, 100, 100)\n",
      "(13536, 100, 100)\n",
      "(5802, 100, 100)\n"
     ]
    }
   ],
   "source": [
    "leinst = LabelEncoder()\n",
    "yyinst = leinst.fit_transform(y_)\n",
    "\n",
    "x_train, x_test, y_train, y_test = train_test_split(X_, yyinst, test_size=0.3, shuffle=True, random_state=42)\n",
    "\n",
    "x_test, x_validation, y_test, y_validation = train_test_split(x_test, y_test, test_size=0.3, shuffle=True, random_state=42)\n",
    "\n",
    "# x_train = x_train.reshape(len(x_train),128,44,1)\n",
    "# x_test = x_test.reshape(len(x_test),128,44,1)\n",
    "# x_validation = x_validation.reshape(len(x_validation),128,44,1)\n",
    "print(x_train.shape)\n",
    "print(x_test.shape)\n",
    "print(x_validation.shape)\n",
    "\n",
    "\n",
    "num_classes = len(leinst.classes_)\n",
    "y_train = to_categorical(y_train, num_classes=num_classes)\n",
    "y_test = to_categorical(y_test, num_classes=num_classes)\n",
    "y_validation = to_categorical(y_validation, num_classes=num_classes)"
   ]
  },
  {
   "cell_type": "code",
   "execution_count": 19,
   "id": "6c8d38a7",
   "metadata": {},
   "outputs": [
    {
     "data": {
      "text/plain": [
       "59"
      ]
     },
     "execution_count": 19,
     "metadata": {},
     "output_type": "execute_result"
    }
   ],
   "source": [
    "num_classes"
   ]
  },
  {
   "cell_type": "code",
   "execution_count": 26,
   "id": "2062d969",
   "metadata": {},
   "outputs": [],
   "source": [
    "K.clear_session()\n",
    "def Kuzushiji_Classifier(in_):\n",
    "    model_ = Conv2D(64,kernel_size=(3, 3),activation='relu')(in_)\n",
    "    model_ = BatchNormalization()(model_)\n",
    "    model_ = Conv2D(32,kernel_size=(3, 3),activation='relu')(model_)\n",
    "    model_ = MaxPooling2D(pool_size=(2, 2))(model_)\n",
    "    model_ = BatchNormalization()(model_)\n",
    "    model_ = Dropout(0.4)(model_)\n",
    "    \n",
    "    model_ = Conv2D(32,kernel_size=(3, 3), strides=2,activation='relu')(model_)\n",
    "    model_ = MaxPooling2D(pool_size=(2, 2))(model_)\n",
    "    model_ = BatchNormalization()(model_)\n",
    "    model_ = Dropout(0.4)(model_)\n",
    "    \n",
    "    model_ = Flatten()(model_)\n",
    "    model_ = Dense(128, activation='relu')(model_)\n",
    "    model_ = Dropout(0.4)(model_)\n",
    "    model_ = Dense(num_classes, activation='softmax')(model_)\n",
    "    return model_"
   ]
  },
  {
   "cell_type": "code",
   "execution_count": 27,
   "id": "751615e4",
   "metadata": {},
   "outputs": [],
   "source": [
    "Input_Sample = Input(shape=(100, 100, 1))\n",
    "Output_ = Kuzushiji_Classifier(Input_Sample)\n",
    "Model_Enhancer = Model(inputs=Input_Sample, outputs=Output_)"
   ]
  },
  {
   "cell_type": "code",
   "execution_count": 28,
   "id": "d5bdf0a6",
   "metadata": {},
   "outputs": [
    {
     "name": "stdout",
     "output_type": "stream",
     "text": [
      "Model: \"model\"\n",
      "_________________________________________________________________\n",
      " Layer (type)                Output Shape              Param #   \n",
      "=================================================================\n",
      " input_1 (InputLayer)        [(None, 100, 100, 1)]     0         \n",
      "                                                                 \n",
      " conv2d (Conv2D)             (None, 98, 98, 64)        640       \n",
      "                                                                 \n",
      " batch_normalization (BatchN  (None, 98, 98, 64)       256       \n",
      " ormalization)                                                   \n",
      "                                                                 \n",
      " conv2d_1 (Conv2D)           (None, 96, 96, 32)        18464     \n",
      "                                                                 \n",
      " max_pooling2d (MaxPooling2D  (None, 48, 48, 32)       0         \n",
      " )                                                               \n",
      "                                                                 \n",
      " batch_normalization_1 (Batc  (None, 48, 48, 32)       128       \n",
      " hNormalization)                                                 \n",
      "                                                                 \n",
      " dropout (Dropout)           (None, 48, 48, 32)        0         \n",
      "                                                                 \n",
      " conv2d_2 (Conv2D)           (None, 23, 23, 32)        9248      \n",
      "                                                                 \n",
      " max_pooling2d_1 (MaxPooling  (None, 11, 11, 32)       0         \n",
      " 2D)                                                             \n",
      "                                                                 \n",
      " batch_normalization_2 (Batc  (None, 11, 11, 32)       128       \n",
      " hNormalization)                                                 \n",
      "                                                                 \n",
      " dropout_1 (Dropout)         (None, 11, 11, 32)        0         \n",
      "                                                                 \n",
      " flatten (Flatten)           (None, 3872)              0         \n",
      "                                                                 \n",
      " dense (Dense)               (None, 128)               495744    \n",
      "                                                                 \n",
      " dropout_2 (Dropout)         (None, 128)               0         \n",
      "                                                                 \n",
      " dense_1 (Dense)             (None, 59)                7611      \n",
      "                                                                 \n",
      "=================================================================\n",
      "Total params: 532,219\n",
      "Trainable params: 531,963\n",
      "Non-trainable params: 256\n",
      "_________________________________________________________________\n"
     ]
    }
   ],
   "source": [
    "Model_Enhancer.compile(loss = \"categorical_crossentropy\", optimizer=\"adam\", metrics=[\"accuracy\"])\n",
    "Model_Enhancer.summary()"
   ]
  },
  {
   "cell_type": "code",
   "execution_count": 29,
   "id": "255f669d",
   "metadata": {},
   "outputs": [],
   "source": [
    "checkpointer = ModelCheckpoint('model_Kuzushiji111.h5', verbose=0,mode='auto', monitor='val_accuracy',save_best_only=True)"
   ]
  },
  {
   "cell_type": "code",
   "execution_count": 30,
   "id": "54404814",
   "metadata": {
    "scrolled": true
   },
   "outputs": [
    {
     "name": "stdout",
     "output_type": "stream",
     "text": [
      "Epoch 1/20\n",
      "1505/1505 [==============================] - 877s 582ms/step - loss: 1.6184 - accuracy: 0.6010 - val_loss: 0.6505 - val_accuracy: 0.8228\n",
      "Epoch 2/20\n",
      "1505/1505 [==============================] - 874s 581ms/step - loss: 0.8348 - accuracy: 0.7715 - val_loss: 0.4682 - val_accuracy: 0.8799\n",
      "Epoch 3/20\n",
      "1505/1505 [==============================] - 910s 605ms/step - loss: 0.6749 - accuracy: 0.8122 - val_loss: 0.4704 - val_accuracy: 0.8716\n",
      "Epoch 4/20\n",
      "1505/1505 [==============================] - 906s 602ms/step - loss: 0.5867 - accuracy: 0.8343 - val_loss: 0.3671 - val_accuracy: 0.9045\n",
      "Epoch 5/20\n",
      "1505/1505 [==============================] - 909s 604ms/step - loss: 0.5397 - accuracy: 0.8457 - val_loss: 0.3653 - val_accuracy: 0.9045\n",
      "Epoch 6/20\n",
      "1505/1505 [==============================] - 851s 566ms/step - loss: 0.4860 - accuracy: 0.8577 - val_loss: 0.3403 - val_accuracy: 0.9105\n",
      "Epoch 7/20\n",
      "1505/1505 [==============================] - 828s 550ms/step - loss: 0.4504 - accuracy: 0.8672 - val_loss: 0.3340 - val_accuracy: 0.9104\n",
      "Epoch 8/20\n",
      "1505/1505 [==============================] - 846s 562ms/step - loss: 0.4183 - accuracy: 0.8758 - val_loss: 0.2728 - val_accuracy: 0.9330\n",
      "Epoch 9/20\n",
      "1505/1505 [==============================] - 884s 587ms/step - loss: 0.3973 - accuracy: 0.8826 - val_loss: 0.3095 - val_accuracy: 0.9186\n",
      "Epoch 10/20\n",
      "1505/1505 [==============================] - 849s 564ms/step - loss: 0.3738 - accuracy: 0.8890 - val_loss: 0.2802 - val_accuracy: 0.9249\n",
      "Epoch 11/20\n",
      "1505/1505 [==============================] - 888s 590ms/step - loss: 0.3628 - accuracy: 0.8920 - val_loss: 0.2875 - val_accuracy: 0.9261\n",
      "Epoch 12/20\n",
      "1505/1505 [==============================] - 857s 569ms/step - loss: 0.3355 - accuracy: 0.8997 - val_loss: 0.2777 - val_accuracy: 0.9292\n",
      "Epoch 13/20\n",
      "1505/1505 [==============================] - 878s 583ms/step - loss: 0.3170 - accuracy: 0.9025 - val_loss: 0.2673 - val_accuracy: 0.9338\n",
      "Epoch 14/20\n",
      "1505/1505 [==============================] - 820s 545ms/step - loss: 0.3141 - accuracy: 0.9047 - val_loss: 0.2804 - val_accuracy: 0.9292\n",
      "Epoch 15/20\n",
      "1505/1505 [==============================] - 814s 541ms/step - loss: 0.3012 - accuracy: 0.9062 - val_loss: 0.2679 - val_accuracy: 0.9307\n",
      "Epoch 16/20\n",
      "1505/1505 [==============================] - 1221s 811ms/step - loss: 0.2951 - accuracy: 0.9090 - val_loss: 0.2552 - val_accuracy: 0.9385\n",
      "Epoch 17/20\n",
      "1505/1505 [==============================] - 858s 570ms/step - loss: 0.2863 - accuracy: 0.9113 - val_loss: 0.2376 - val_accuracy: 0.9395\n",
      "Epoch 18/20\n",
      "1505/1505 [==============================] - 844s 561ms/step - loss: 0.2776 - accuracy: 0.9140 - val_loss: 0.2635 - val_accuracy: 0.9311\n",
      "Epoch 19/20\n",
      "1505/1505 [==============================] - 840s 558ms/step - loss: 0.2640 - accuracy: 0.9190 - val_loss: 0.2290 - val_accuracy: 0.9388\n",
      "Epoch 20/20\n",
      "1505/1505 [==============================] - 800s 531ms/step - loss: 0.2640 - accuracy: 0.9184 - val_loss: 0.2109 - val_accuracy: 0.9447\n"
     ]
    }
   ],
   "source": [
    "ModelHistory = Model_Enhancer.fit(x_train, y_train,\n",
    "          batch_size=30,\n",
    "          epochs=20,\n",
    "          verbose=1,callbacks=[checkpointer],\n",
    "          validation_data=(x_validation, y_validation))"
   ]
  },
  {
   "cell_type": "code",
   "execution_count": 31,
   "id": "1a181167",
   "metadata": {},
   "outputs": [
    {
     "name": "stdout",
     "output_type": "stream",
     "text": [
      "1411/1411 [==============================] - 124s 88ms/step - loss: 0.0468 - accuracy: 0.9901\n",
      "Training Accuracy:  0.9901154637336731\n"
     ]
    }
   ],
   "source": [
    "train_score = Model_Enhancer.evaluate(x_train, y_train, verbose=1)\n",
    "print(\"Training Accuracy: \", train_score[1])"
   ]
  },
  {
   "cell_type": "code",
   "execution_count": 32,
   "id": "6ed99122",
   "metadata": {},
   "outputs": [
    {
     "name": "stdout",
     "output_type": "stream",
     "text": [
      "423/423 [==============================] - 39s 91ms/step - loss: 0.2297 - accuracy: 0.9417\n",
      "Test Accuracy:  0.9417110085487366\n"
     ]
    }
   ],
   "source": [
    "test_score = Model_Enhancer.evaluate(x_test, y_test, verbose=1)\n",
    "print(\"Test Accuracy: \", test_score[1])"
   ]
  },
  {
   "cell_type": "code",
   "execution_count": null,
   "id": "eb91bf2d",
   "metadata": {},
   "outputs": [],
   "source": []
  }
 ],
 "metadata": {
  "kernelspec": {
   "display_name": "Python 3 (ipykernel)",
   "language": "python",
   "name": "python3"
  },
  "language_info": {
   "codemirror_mode": {
    "name": "ipython",
    "version": 3
   },
   "file_extension": ".py",
   "mimetype": "text/x-python",
   "name": "python",
   "nbconvert_exporter": "python",
   "pygments_lexer": "ipython3",
   "version": "3.10.3"
  }
 },
 "nbformat": 4,
 "nbformat_minor": 5
}
